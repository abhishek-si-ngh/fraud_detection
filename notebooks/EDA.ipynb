{
 "cells": [
  {
   "cell_type": "code",
   "execution_count": null,
   "id": "4d5719fc",
   "metadata": {
    "vscode": {
     "languageId": "plaintext"
    }
   },
   "outputs": [],
   "source": [
    "import pandas as pd\n",
    "import matplotlib.pyplot as plt\n",
    "import seaborn as sns\n",
    "\n",
    "# Load dataset\n",
    "df = pd.read_csv('../data/dataset.csv')\n",
    "print(df.head())\n",
    "print(df.info())\n",
    "print(df.describe())\n",
    "\n",
    "# Check fraud distribution\n",
    "sns.countplot(x='TX_FRAUD', data=df)\n",
    "plt.show()\n",
    "\n",
    "# Amount distribution\n",
    "sns.histplot(df['TX_AMOUNT'], bins=50)\n",
    "plt.show()\n"
   ]
  }
 ],
 "metadata": {
  "language_info": {
   "name": "python"
  }
 },
 "nbformat": 4,
 "nbformat_minor": 5
}
